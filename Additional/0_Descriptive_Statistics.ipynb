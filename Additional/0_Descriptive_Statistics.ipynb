{
 "cells": [
  {
   "cell_type": "markdown",
   "id": "a631cfab-fe56-4515-b4eb-6a14a4e41bdf",
   "metadata": {},
   "source": [
    "# Jupyter Notebook for Descriptive Statistic\n",
    "Created by FGL\n",
    "03/03/2025 fglongatt@fglongatt.org\n",
    "This notebook shows some of the most useful descriptive statistic indexes inside Python. \n",
    "\n"
   ]
  },
  {
   "cell_type": "markdown",
   "id": "a9c61b2f-c0df-4008-93f8-fb3cc3f30e8f",
   "metadata": {},
   "source": [
    "Users can benefit from using styles, and more so when using Jupyter Notebooks.\n",
    "\n",
    "## Title 2\n",
    "### Title 3\n",
    "\n",
    "* bold letter **Hello Bold**\n",
    "* italic  *Hello italic*\n",
    "\n",
    "A full explanation available at: https://www.ibm.com/docs/en/watson-studio-local/1.2.3?topic=notebooks-markdown-jupyter-cheatsheet"
   ]
  },
  {
   "cell_type": "markdown",
   "id": "d3af9c60-fecc-4f98-b485-9664a24ea173",
   "metadata": {},
   "source": [
    "Import the very useful package Numpy"
   ]
  },
  {
   "cell_type": "code",
   "execution_count": 12,
   "id": "628a872e-3d6f-44bb-9c54-db74822f4d7e",
   "metadata": {},
   "outputs": [],
   "source": [
    "import numpy as np"
   ]
  },
  {
   "cell_type": "markdown",
   "id": "56cc0e93-cb7a-4d25-b69f-a83d38a7ef8c",
   "metadata": {},
   "source": [
    "Creating a dataset in form of an array"
   ]
  },
  {
   "cell_type": "code",
   "execution_count": 14,
   "id": "a8796b2b-a813-42ca-9d29-bcc84f3ba7a8",
   "metadata": {},
   "outputs": [],
   "source": [
    "data = np.array([5, 8, 12, 7])"
   ]
  },
  {
   "cell_type": "markdown",
   "id": "a5635701-529c-40a9-9e02-a56f3c63d450",
   "metadata": {},
   "source": [
    "## Example calculating the Mean Value\n",
    "Calculating the mean value\n",
    "numpy.mean(): Calculate the arithmetic mean along a set of data\n"
   ]
  },
  {
   "cell_type": "code",
   "execution_count": 16,
   "id": "5d05599b-c0cb-4f7f-8f02-978ee1ef4f08",
   "metadata": {},
   "outputs": [],
   "source": [
    "mean_value = np.mean(data)"
   ]
  },
  {
   "cell_type": "markdown",
   "id": "0d353b62-a924-4bf2-98ac-6e718998eb9e",
   "metadata": {},
   "source": [
    "Printing the result"
   ]
  },
  {
   "cell_type": "code",
   "execution_count": 18,
   "id": "b02caae7-e39d-4144-8e06-47df831c2df7",
   "metadata": {},
   "outputs": [
    {
     "name": "stdout",
     "output_type": "stream",
     "text": [
      " Mean value: 8.0\n"
     ]
    }
   ],
   "source": [
    "print(\" Mean value:\", mean_value)"
   ]
  },
  {
   "cell_type": "markdown",
   "id": "f499e6e9-0820-4aac-821a-4cc4343d4dbd",
   "metadata": {},
   "source": [
    "## Example calculating the Median value\n",
    "Calculating the median value numpy.median(): Compute the median of a data set"
   ]
  },
  {
   "cell_type": "code",
   "execution_count": 20,
   "id": "433f0f2f-4c6a-4483-a92c-7c2e00f1dd94",
   "metadata": {},
   "outputs": [],
   "source": [
    "median_value = np.median(data)"
   ]
  },
  {
   "cell_type": "markdown",
   "id": "9b0c2163-dcab-4b4b-afc2-a939cd12798a",
   "metadata": {},
   "source": [
    "Printing the median value"
   ]
  },
  {
   "cell_type": "code",
   "execution_count": 22,
   "id": "cc69f0bd-63c4-4f14-97a1-7e10bd62b5d9",
   "metadata": {},
   "outputs": [
    {
     "name": "stdout",
     "output_type": "stream",
     "text": [
      "Median value: 7.5\n"
     ]
    }
   ],
   "source": [
    "print(\"Median value:\",median_value)"
   ]
  },
  {
   "cell_type": "markdown",
   "id": "cb5217d9-371b-4f6c-b555-a24736d6d8f9",
   "metadata": {},
   "source": [
    "## Example calculating the Mode value"
   ]
  },
  {
   "cell_type": "markdown",
   "id": "6911abed-ec83-454c-ba3a-608a16be18ec",
   "metadata": {},
   "source": [
    "Calcutating the mode. We will use anothe package named scipy. The code below is importing a single set of fucntion named statistic from the whole package Scipy"
   ]
  },
  {
   "cell_type": "code",
   "execution_count": 25,
   "id": "9ccda5d5-80d7-4588-81a4-da47e674da07",
   "metadata": {},
   "outputs": [],
   "source": [
    "from scipy import stats "
   ]
  },
  {
   "cell_type": "markdown",
   "id": "7957d542-08db-4d6f-8f15-0517f27bc277",
   "metadata": {},
   "source": [
    "Calculating the mode value scipy.mode()"
   ]
  },
  {
   "cell_type": "code",
   "execution_count": 27,
   "id": "480c35ce-9c18-4cae-9364-18df247d3f61",
   "metadata": {},
   "outputs": [],
   "source": [
    "mode_value =  stats.mode(data)"
   ]
  },
  {
   "cell_type": "markdown",
   "id": "05aa011b-a0e0-4a9c-a58c-fffb592da346",
   "metadata": {},
   "source": [
    "Pritning the mode value"
   ]
  },
  {
   "cell_type": "code",
   "execution_count": 29,
   "id": "dcbf03a8-9bd0-42cf-a4c0-52a7dfe9dd6b",
   "metadata": {},
   "outputs": [
    {
     "name": "stdout",
     "output_type": "stream",
     "text": [
      "Mode value ModeResult(mode=5, count=1)\n"
     ]
    }
   ],
   "source": [
    "print('Mode value',mode_value)"
   ]
  },
  {
   "cell_type": "markdown",
   "id": "76f2f262-2d2e-4b1a-80e2-92ddada0848b",
   "metadata": {},
   "source": [
    "# Example calculating the Variance\n",
    "Using numpy.var()"
   ]
  },
  {
   "cell_type": "code",
   "execution_count": 31,
   "id": "a9ca771c-9b01-4130-acb4-07b82dc3830a",
   "metadata": {},
   "outputs": [],
   "source": [
    "variance_sample = np.var(data, ddof = 1) # Sample variance\n",
    "variance_pop = np.var(data, ddof = 0) # Population variance"
   ]
  },
  {
   "cell_type": "code",
   "execution_count": 32,
   "id": "e8fa3724-9d08-47e8-9075-58e0bf8c601d",
   "metadata": {},
   "outputs": [
    {
     "name": "stdout",
     "output_type": "stream",
     "text": [
      "Variance Sample value: 8.666666666666666\n",
      "Variance Population value: 6.5\n"
     ]
    }
   ],
   "source": [
    "print('Variance Sample value:',variance_sample)\n",
    "print('Variance Population value:',variance_pop)"
   ]
  },
  {
   "cell_type": "code",
   "execution_count": null,
   "id": "ec107d20-03bd-4dd9-b20b-8e84c71b3258",
   "metadata": {},
   "outputs": [],
   "source": []
  }
 ],
 "metadata": {
  "kernelspec": {
   "display_name": "Python [conda env:base] *",
   "language": "python",
   "name": "conda-base-py"
  },
  "language_info": {
   "codemirror_mode": {
    "name": "ipython",
    "version": 3
   },
   "file_extension": ".py",
   "mimetype": "text/x-python",
   "name": "python",
   "nbconvert_exporter": "python",
   "pygments_lexer": "ipython3",
   "version": "3.12.7"
  }
 },
 "nbformat": 4,
 "nbformat_minor": 5
}
