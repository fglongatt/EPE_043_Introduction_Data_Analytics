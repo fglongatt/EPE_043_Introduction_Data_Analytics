{
 "cells": [
  {
   "cell_type": "markdown",
   "id": "948c0232-5258-4ffc-928b-deae387dfce5",
   "metadata": {},
   "source": [
    "# Import Machine Learning Libraries and Others\n",
    "\n",
    "This notebook is designed to test the installation of the main libraries used in the course EPE043. Introduction to Data Analitics for Smart Energy Systems.\n",
    "\n",
    "\n",
    "This script is not intended to install and/or comment on the whole ecosystem of Ptyhon libraries avaiable, but only the libraries, packages and framework unsed in this course.\n",
    "\n",
    "\n",
    "Created by Francisco Gonzalez-Longatt\n",
    "\n"
   ]
  },
  {
   "cell_type": "markdown",
   "id": "dc8a195f-5598-477b-bacf-37d9c6174954",
   "metadata": {},
   "source": [
    "## Import some general libraries"
   ]
  },
  {
   "cell_type": "code",
   "execution_count": null,
   "id": "0034cbfd-c4aa-4f88-9ee8-7aff5fd3283b",
   "metadata": {},
   "outputs": [],
   "source": [
    "import os\n",
    "import time\n",
    "import pickle\n",
    "import glob\n",
    "import numpy as np\n",
    "import matplotlib.pyplot as plt\n",
    "import pandas as pd\n",
    "import seaborn as sns"
   ]
  },
  {
   "cell_type": "markdown",
   "id": "533f6919-7d60-478a-9213-2cfd451f6b6b",
   "metadata": {},
   "source": [
    "## Import packages for Machile Learning"
   ]
  },
  {
   "cell_type": "markdown",
   "id": "2fc04b75-a233-44bf-baca-bb218eddffa4",
   "metadata": {},
   "source": [
    "Linear Regression is a machine learning algorithm based on supervised learning. It performs a regression task. Regression models a target prediction value based on independent variables. It is mostly used for finding out the relationship between variables and forecasting. "
   ]
  },
  {
   "cell_type": "code",
   "execution_count": null,
   "id": "91169721-2870-4b88-b007-50d0e705098f",
   "metadata": {},
   "outputs": [],
   "source": [
    "from sklearn import linear_model\n",
    "\n",
    "import warnings\n",
    "warnings.simplefilter(action='ignore', category=FutureWarning)"
   ]
  },
  {
   "cell_type": "markdown",
   "id": "e53cd91f-b3ac-49b8-abe4-afcbec825a6a",
   "metadata": {},
   "source": [
    "## Import packages needed for for the Neural Netweoks (NN)"
   ]
  },
  {
   "cell_type": "markdown",
   "id": "d4ccf381-2753-400c-a0a2-7c5c50ccbee1",
   "metadata": {},
   "source": [
    "The Keras Sequential class is a fundamental component of the Keras library, which is widely used for building and training deep learning models. This class provides a simple and intuitive way to create neural networks by stacking layers in a linear fashion. It is particularly well-suited for beginners and for constructing straightforward feedforward networks."
   ]
  },
  {
   "cell_type": "markdown",
   "id": "efa4ce6e-6a97-4e94-b7a7-44caeff7589e",
   "metadata": {},
   "source": [
    "The Dense layer in Keras is a good old, fully/densely-connected neural network. There's nothing more to it! \n",
    "However, understanding it thoroughly will go a long way while building custom models in Keras."
   ]
  },
  {
   "cell_type": "markdown",
   "id": "975b5fce-2057-4fd4-821a-fbeae68b9863",
   "metadata": {},
   "source": [
    "Data Scaling is a data preprocessing step for numerical features. Many machine learning algorithms like Gradient descent methods, KNN algorithm, linear and logistic regression, etc. require data scaling to produce good results. Read more: https://www.geeksforgeeks.org/data-pre-processing-wit-sklearn-using-standard-and-minmax-scaler/"
   ]
  },
  {
   "cell_type": "code",
   "execution_count": 5,
   "id": "8bc7abfb-2e42-404a-83c5-e9673775dce7",
   "metadata": {},
   "outputs": [],
   "source": [
    "from keras.models import Sequential\n",
    "from keras.layers import Dense\n",
    "from sklearn.preprocessing import MinMaxScaler"
   ]
  },
  {
   "cell_type": "code",
   "execution_count": null,
   "id": "86d3ca6b-c3f0-4074-902b-b32e4ad6a549",
   "metadata": {},
   "outputs": [],
   "source": []
  }
 ],
 "metadata": {
  "kernelspec": {
   "display_name": "Python 3 (ipykernel)",
   "language": "python",
   "name": "python3"
  },
  "language_info": {
   "codemirror_mode": {
    "name": "ipython",
    "version": 3
   },
   "file_extension": ".py",
   "mimetype": "text/x-python",
   "name": "python",
   "nbconvert_exporter": "python",
   "pygments_lexer": "ipython3",
   "version": "3.10.13"
  }
 },
 "nbformat": 4,
 "nbformat_minor": 5
}
